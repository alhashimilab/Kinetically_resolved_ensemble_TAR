{
 "cells": [
  {
   "cell_type": "code",
   "execution_count": 1,
   "id": "eeeec7d0",
   "metadata": {},
   "outputs": [],
   "source": [
    "import sys\n",
    "import numpy as np\n",
    "import pylab as pl\n",
    "import pandas as pd\n",
    "from matplotlib import colors\n",
    "import matplotlib as mpl\n",
    "from mpl_toolkits.mplot3d import Axes3D\n",
    "import matplotlib.pyplot as plt\n",
    "import seaborn as sns"
   ]
  },
  {
   "cell_type": "code",
   "execution_count": 2,
   "id": "962f6799",
   "metadata": {},
   "outputs": [],
   "source": [
    "import warnings\n",
    "warnings.filterwarnings('ignore')"
   ]
  },
  {
   "cell_type": "code",
   "execution_count": 3,
   "id": "5afab1e7",
   "metadata": {},
   "outputs": [],
   "source": [
    "# Settings for matplotlib\n",
    "plt.rcParams[\"font.family\"] = \"Arial\"\n",
    "mpl.rcParams['axes.linewidth'] = 2\n",
    "plt.rcParams.update({'font.size': 20})"
   ]
  },
  {
   "cell_type": "code",
   "execution_count": null,
   "id": "1e218094",
   "metadata": {},
   "outputs": [],
   "source": []
  },
  {
   "cell_type": "code",
   "execution_count": 4,
   "id": "74f85ead",
   "metadata": {},
   "outputs": [
    {
     "name": "stdout",
     "output_type": "stream",
     "text": [
      "4.547251080432173\n",
      "5.332911676646707\n"
     ]
    }
   ],
   "source": [
    "df = pd.read_table(\"data/wtTAR_RMSD_BoundState.cpptrajout\", delim_whitespace=True)\n",
    "df2 = pd.read_csv(\"data/index_map.csv\")\n",
    "df[\"sas_idx\"] = df2.sas_index\n",
    "GS_mask = df[\"sas_idx\"] < 5000\n",
    "ES_mask = df[\"sas_idx\"] >= 5000\n",
    "print(np.mean(df.loc[GS_mask].all_heavy_atom))\n",
    "print(np.mean(df.loc[ES_mask].all_heavy_atom))"
   ]
  },
  {
   "cell_type": "code",
   "execution_count": null,
   "id": "bc60f99b",
   "metadata": {},
   "outputs": [],
   "source": []
  },
  {
   "cell_type": "code",
   "execution_count": 6,
   "id": "283077bc",
   "metadata": {},
   "outputs": [
    {
     "data": {
      "image/png": "[encoded data removed]",
      "text/plain": [
       "<Figure size 144x288 with 1 Axes>"
      ]
     },
     "metadata": {
      "needs_background": "light"
     },
     "output_type": "display_data"
    }
   ],
   "source": [
    "fig, ax = plt.subplots(1,figsize=(2,4))\n",
    "vp = ax.violinplot([df.loc[GS_mask].all_heavy_atom, df.loc[ES_mask].all_heavy_atom], positions = [1, 2], widths=0.75,\n",
    "              showmeans=True)\n",
    "colors = ['green', 'magenta']\n",
    "counter = 0\n",
    "\n",
    "vp['cmeans'].set_color('black')\n",
    "vp['cmins'].set_color('black')\n",
    "vp['cmaxes'].set_color('black')\n",
    "vp['cbars'].set_color('black')\n",
    "\n",
    "plt.tick_params(width=2,length=6)\n",
    "\n",
    "for pc in vp['bodies']:\n",
    "    pc.set_facecolor(colors[counter])\n",
    "    pc.set_alpha(0.6)\n",
    "    counter += 1\n",
    "#plt.savefig(\"plots/Heavy_Atom_RMSD_Violin.pdf\")\n",
    "plt.show()"
   ]
  },
  {
   "cell_type": "code",
   "execution_count": null,
   "id": "4e58b78b",
   "metadata": {},
   "outputs": [],
   "source": []
  },
  {
   "cell_type": "code",
   "execution_count": null,
   "id": "41495ac0",
   "metadata": {},
   "outputs": [],
   "source": []
  },
  {
   "cell_type": "code",
   "execution_count": null,
   "id": "83087db0",
   "metadata": {},
   "outputs": [],
   "source": []
  },
  {
   "cell_type": "code",
   "execution_count": null,
   "id": "11667eda",
   "metadata": {},
   "outputs": [],
   "source": []
  },
  {
   "cell_type": "code",
   "execution_count": null,
   "id": "8f00dbd7",
   "metadata": {},
   "outputs": [],
   "source": []
  },
  {
   "cell_type": "code",
   "execution_count": null,
   "id": "06bcbfff",
   "metadata": {},
   "outputs": [],
   "source": []
  }
 ],
 "metadata": {
  "kernelspec": {
   "display_name": "Python 3 (ipykernel)",
   "language": "python",
   "name": "python3"
  },
  "language_info": {
   "codemirror_mode": {
    "name": "ipython",
    "version": 3
   },
   "file_extension": ".py",
   "mimetype": "text/x-python",
   "name": "python",
   "nbconvert_exporter": "python",
   "pygments_lexer": "ipython3",
   "version": "3.8.3"
  }
 },
 "nbformat": 4,
 "nbformat_minor": 5
}
