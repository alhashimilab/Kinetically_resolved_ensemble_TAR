{
 "cells": [
  {
   "cell_type": "code",
   "execution_count": 5,
   "id": "9e3e83eb",
   "metadata": {},
   "outputs": [],
   "source": [
    "# import required libraries\n",
    "import os, sys\n",
    "import numpy as np, pandas as pd, seaborn as sns\n",
    "import matplotlib.pyplot as plt\n",
    "import matplotlib as mpl\n",
    "from sklearn.metrics import r2_score\n",
    "from scipy.spatial.transform import Rotation"
   ]
  },
  {
   "cell_type": "code",
   "execution_count": 12,
   "id": "2d38fba4",
   "metadata": {},
   "outputs": [],
   "source": [
    "# function to get alignment tensor from RAMAH output files (*.stat)\n",
    "def get_alignment_tensor(filename):\n",
    "    fin = open(filename, \"r\")\n",
    "    Szz = None\n",
    "    Sxx = None\n",
    "    Syy = None\n",
    "    for line in fin:\n",
    "        if \"Sxx\" in line:\n",
    "            words = line.strip().split('|')\n",
    "            Sxx = float(words[1].strip())\n",
    "        elif \"Syy\" in line:\n",
    "            words = line.strip().split('|')\n",
    "            Syy = float(words[1].strip())\n",
    "        elif \"Szz\" in line:\n",
    "            words = line.strip().split('|')\n",
    "            Szz = float(words[1].strip())\n",
    "    return (Sxx, Syy, Szz)"
   ]
  },
  {
   "cell_type": "code",
   "execution_count": 13,
   "id": "b6188feb",
   "metadata": {},
   "outputs": [],
   "source": [
    "# function to get Euler angles from RAMAH output files (*.stat)\n",
    "def get_euler_angles(filename):\n",
    "    fin = open(filename, \"r\")\n",
    "    alpha = None\n",
    "    beta = None\n",
    "    gamma = None\n",
    "    for line in fin:\n",
    "        if \"Euler Angles\" in line:\n",
    "            line = fin.readline()\n",
    "            words = line.strip().split()\n",
    "            alpha = float(words[4])\n",
    "            beta = float(words[5])\n",
    "            gamma = float(words[6])\n",
    "            return (alpha, beta, gamma)"
   ]
  },
  {
   "cell_type": "code",
   "execution_count": 15,
   "id": "11019e23",
   "metadata": {},
   "outputs": [],
   "source": [
    "# Read in all relevant alignment tensors and euler angles:\n",
    "E0_tensor = get_alignment_tensor(\"data/E0-wt-TAR-H2-Fit.stat\")\n",
    "EI22_tensor = get_alignment_tensor(\"data/EI22-wt-TAR-H2-Fit.stat\")\n",
    "EII3_tensor = get_alignment_tensor(\"data/EII3-wt-TAR-All-H2-Fit.stat\")\n",
    "EII13_tensor = get_alignment_tensor(\"data/EII13-wt-TAR-All-H2-Fit.stat\")\n",
    "E0_abg = get_euler_angles(\"data/E0-wt-TAR-H2-Fit.stat\")\n",
    "EI22_abg = get_euler_angles(\"data/EI22-wt-TAR-H2-Fit.stat\")\n",
    "EII3_abg = get_euler_angles(\"data/EII3-wt-TAR-All-H2-Fit.stat\")\n",
    "EII13_abg = get_euler_angles(\"data/EII13-wt-TAR-All-H2-Fit.stat\")"
   ]
  },
  {
   "cell_type": "code",
   "execution_count": 16,
   "id": "40099c05",
   "metadata": {},
   "outputs": [],
   "source": [
    "# function to convert euler angle to SO3 (rotation matrix representation)\n",
    "def eul2rot(theta) :\n",
    "    R = np.array([[np.cos(theta[1])*np.cos(theta[2]),       np.sin(theta[0])*np.sin(theta[1])*np.cos(theta[2]) - np.sin(theta[2])*np.cos(theta[0]),      np.sin(theta[1])*np.cos(theta[0])*np.cos(theta[2]) + np.sin(theta[0])*np.sin(theta[2])],\n",
    "                  [np.sin(theta[2])*np.cos(theta[1]),       np.sin(theta[0])*np.sin(theta[1])*np.sin(theta[2]) + np.cos(theta[0])*np.cos(theta[2]),      np.sin(theta[1])*np.sin(theta[2])*np.cos(theta[0]) - np.sin(theta[0])*np.cos(theta[2])],\n",
    "                  [-np.sin(theta[1]),                       np.sin(theta[0])*np.cos(theta[1]),                                                           np.cos(theta[0])*np.cos(theta[1])]])\n",
    "\n",
    "    return R"
   ]
  },
  {
   "cell_type": "code",
   "execution_count": null,
   "id": "56adccac",
   "metadata": {},
   "outputs": [],
   "source": [
    "###### VERSION 1 ########"
   ]
  },
  {
   "cell_type": "code",
   "execution_count": 43,
   "id": "db8294c2",
   "metadata": {},
   "outputs": [],
   "source": [
    "# convert alignment tensors from PAS to a shared molecular axis frame:\n",
    "\n",
    "# E0\n",
    "R = eul2rot(E0_abg)\n",
    "Rinv = np.linalg.inv(R)\n",
    "E0_tensor_pas = np.diag(E0_tensor)\n",
    "E0_tensor_mol = np.matmul(Rinv, np.matmul(E0_tensor_pas, R))\n",
    "\n",
    "# EI22\n",
    "R = eul2rot(EI22_abg)\n",
    "Rinv = np.linalg.inv(R)\n",
    "EI22_tensor_pas = np.diag(EI22_tensor)\n",
    "EI22_tensor_mol = np.matmul(Rinv, np.matmul(EI22_tensor_pas, R))\n",
    "\n",
    "# EII3\n",
    "R = eul2rot(EII3_abg)\n",
    "Rinv = np.linalg.inv(R)\n",
    "EII3_tensor_pas = np.diag(EII3_tensor)\n",
    "EII3_tensor_mol = np.matmul(Rinv, np.matmul(EII3_tensor_pas, R))\n",
    "\n",
    "# EII13\n",
    "R = eul2rot(EII13_abg)\n",
    "Rinv = np.linalg.inv(R)\n",
    "EII13_tensor_pas = np.diag(EII13_tensor)\n",
    "EII13_tensor_mol = np.matmul(Rinv, np.matmul(EII13_tensor_pas, R))"
   ]
  },
  {
   "cell_type": "code",
   "execution_count": 47,
   "id": "eb794113",
   "metadata": {},
   "outputs": [],
   "source": [
    "# function to define normalized scalar product:\n",
    "def dot(a, b):\n",
    "    sum = 0\n",
    "    for i in range(3):\n",
    "        for j in range(3):\n",
    "            sum += a[i,j] * b[i,j]\n",
    "    return sum\n",
    "def norm_scal_prod(A1, A2):\n",
    "    num = dot(A1, A2)\n",
    "    norm1 = np.sqrt(dot(A1, A1)) \n",
    "    norm2 = np.sqrt(dot(A2, A2))\n",
    "    return num/(norm1*norm2)"
   ]
  },
  {
   "cell_type": "code",
   "execution_count": 48,
   "id": "b56a9ab8",
   "metadata": {},
   "outputs": [
    {
     "name": "stdout",
     "output_type": "stream",
     "text": [
      "Tensor scalar products VERSION 1:\n",
      "E0   --- EI22  = 0.32\n",
      "     --- EII3  = -0.45\n",
      "     --- EII13 = -0.42\n",
      "EI22 --- EII3  = 0.24\n",
      "     --- EII13 = -0.05\n",
      "EII3 --- EII13  = -0.00\n"
     ]
    }
   ],
   "source": [
    "print(\"Tensor scalar products VERSION 1:\")\n",
    "print(\"E0   --- EI22  = %3.2f\"%(norm_scal_prod(E0_tensor_mol, EI22_tensor_mol)))\n",
    "print(\"     --- EII3  = %3.2f\"%(norm_scal_prod(E0_tensor_mol, EII3_tensor_mol)))\n",
    "print(\"     --- EII13 = %3.2f\"%(norm_scal_prod(E0_tensor_mol, EII13_tensor_mol)))\n",
    "print(\"EI22 --- EII3  = %3.2f\"%(norm_scal_prod(EI22_tensor_mol, EII3_tensor_mol)))\n",
    "print(\"     --- EII13 = %3.2f\"%(norm_scal_prod(EI22_tensor_mol, EII13_tensor_mol)))\n",
    "print(\"EII3 --- EII13  = %3.2f\"%(norm_scal_prod(EII3_tensor_mol, EII13_tensor_mol)))"
   ]
  },
  {
   "cell_type": "code",
   "execution_count": 49,
   "id": "e262ee4a",
   "metadata": {},
   "outputs": [
    {
     "name": "stdout",
     "output_type": "stream",
     "text": [
      "Tensor scalar products VERSION 2:\n",
      "E0   --- EI22  = 0.32\n",
      "     --- EII3  = -0.45\n",
      "     --- EII13 = -0.42\n",
      "EI22 --- EII3  = 0.24\n",
      "     --- EII13 = -0.05\n",
      "EII3 --- EII13  = -0.00\n"
     ]
    }
   ],
   "source": [
    "###### VERSION 2 ########\n",
    "# convert alignment tensors from PAS to a shared molecular axis frame:\n",
    "\n",
    "# E0\n",
    "R = eul2rot(E0_abg)\n",
    "Rinv = np.linalg.inv(R)\n",
    "E0_tensor_pas = np.diag(E0_tensor)\n",
    "E0_tensor_mol = np.matmul(R, np.matmul(E0_tensor_pas, Rinv))\n",
    "\n",
    "# EI22\n",
    "R = eul2rot(EI22_abg)\n",
    "Rinv = np.linalg.inv(R)\n",
    "EI22_tensor_pas = np.diag(EI22_tensor)\n",
    "EI22_tensor_mol = np.matmul(R, np.matmul(EI22_tensor_pas, Rinv))\n",
    "\n",
    "# EII3\n",
    "R = eul2rot(EII3_abg)\n",
    "Rinv = np.linalg.inv(R)\n",
    "EII3_tensor_pas = np.diag(EII3_tensor)\n",
    "EII3_tensor_mol = np.matmul(R, np.matmul(EII3_tensor_pas, Rinv))\n",
    "\n",
    "# EII13\n",
    "R = eul2rot(EII13_abg)\n",
    "Rinv = np.linalg.inv(R)\n",
    "EII13_tensor_pas = np.diag(EII13_tensor)\n",
    "EII13_tensor_mol = np.matmul(R, np.matmul(EII13_tensor_pas, Rinv))\n",
    "\n",
    "print(\"Tensor scalar products VERSION 2:\")\n",
    "print(\"E0   --- EI22  = %3.2f\"%(norm_scal_prod(E0_tensor_mol, EI22_tensor_mol)))\n",
    "print(\"     --- EII3  = %3.2f\"%(norm_scal_prod(E0_tensor_mol, EII3_tensor_mol)))\n",
    "print(\"     --- EII13 = %3.2f\"%(norm_scal_prod(E0_tensor_mol, EII13_tensor_mol)))\n",
    "print(\"EI22 --- EII3  = %3.2f\"%(norm_scal_prod(EI22_tensor_mol, EII3_tensor_mol)))\n",
    "print(\"     --- EII13 = %3.2f\"%(norm_scal_prod(EI22_tensor_mol, EII13_tensor_mol)))\n",
    "print(\"EII3 --- EII13  = %3.2f\"%(norm_scal_prod(EII3_tensor_mol, EII13_tensor_mol)))"
   ]
  },
  {
   "cell_type": "code",
   "execution_count": null,
   "id": "30e5bb39",
   "metadata": {},
   "outputs": [],
   "source": []
  }
 ],
 "metadata": {
  "kernelspec": {
   "display_name": "Python 3 (ipykernel)",
   "language": "python",
   "name": "python3"
  },
  "language_info": {
   "codemirror_mode": {
    "name": "ipython",
    "version": 3
   },
   "file_extension": ".py",
   "mimetype": "text/x-python",
   "name": "python",
   "nbconvert_exporter": "python",
   "pygments_lexer": "ipython3",
   "version": "3.8.3"
  }
 },
 "nbformat": 4,
 "nbformat_minor": 5
}
