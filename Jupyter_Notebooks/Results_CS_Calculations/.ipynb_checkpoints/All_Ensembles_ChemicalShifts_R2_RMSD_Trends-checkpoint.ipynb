{
 "cells": [
  {
   "cell_type": "code",
   "execution_count": 2,
   "id": "6fb844af",
   "metadata": {},
   "outputs": [],
   "source": [
    "# import required libraries\n",
    "import os, sys\n",
    "import numpy as np, pandas as pd, seaborn as sns\n",
    "import matplotlib.pyplot as plt\n",
    "import matplotlib as mpl\n",
    "from sklearn.metrics import r2_score\n",
    "import matplotlib.lines as mlines\n",
    "import warnings\n",
    "warnings.filterwarnings('ignore')\n",
    "mpl.rcParams['pdf.fonttype'] = 42\n",
    "mpl.rcParams['ps.fonttype'] = 42\n",
    "mpl.rcParams['font.family'] = 'Arial'\n",
    "sns.set_context('poster')"
   ]
  },
  {
   "cell_type": "code",
   "execution_count": null,
   "id": "d8338b5a",
   "metadata": {},
   "outputs": [],
   "source": []
  },
  {
   "cell_type": "code",
   "execution_count": 15,
   "id": "795a3721",
   "metadata": {},
   "outputs": [
    {
     "data": {
      "image/png": "[encoded data removed]",
      "text/plain": [
       "<Figure size 864x288 with 1 Axes>"
      ]
     },
     "metadata": {
      "needs_background": "light"
     },
     "output_type": "display_data"
    }
   ],
   "source": [
    "## Plot RMSD Trends:\n",
    "pool_rmsd = [0.92, 0.2, 0.85, 1.01, 0.78, 0.81, 0.65, 0.81, 0.37, 0.34]\n",
    "ens_rmsd =  [0.89, 0.22, 0.79, 0.86, 0.59, 0.55, 0.58, 0.68, 0.34, 0.23]\n",
    "low_rmsd =  [1.04, 0.22, 1.59, 1.09, 0.95, 1.16, 0.82, 0.43, 0.80, 0.36]\n",
    "\n",
    "fig, ax = plt.subplots()\n",
    "fig.set_size_inches(12,4)\n",
    "    \n",
    "xticklabels = [\"C1'\", \"C2'\", \"C3'\", \"C4'\", \"C5'\", \"C8\", \"C6\", \"C5\", \"C2\", \"N1/N3\"]\n",
    "xticks = list(range(1, len(xticklabels)+1))\n",
    "xticks1 = np.array(xticks) - 0.2\n",
    "xticks2 = np.array(xticks) + 0.2\n",
    "\n",
    "ax.bar(x = xticks1, height=pool_rmsd, color=\"blue\", width=0.3)\n",
    "ax.bar(x = xticks2, height=ens_rmsd, color=\"red\", width=0.3)\n",
    "\n",
    "#ax.tick_params(width=2,length=6)\n",
    "#ax.tick_params(axis='both', which='major', labelsize=20)\n",
    "ax.set_ylim([0, 1.1])\n",
    "ax.set_xlim([0.5, 10.5])\n",
    "ax.set_xticks(xticks)\n",
    "ax.set_xticklabels(xticklabels, fontsize = 20)\n",
    "ax.set_ylabel(r\"RMSD (ppm)\", fontsize=20)\n",
    "#ax.axhline(y=error_EII3, ls = '--', color='k')\n",
    "ax.tick_params(width=2,length=6)\n",
    "plt.savefig(\"plots/RMSD_Pool_Ens_Trends.pdf\")"
   ]
  },
  {
   "cell_type": "code",
   "execution_count": 17,
   "id": "690d9b38",
   "metadata": {},
   "outputs": [
    {
     "data": {
      "image/png": "[encoded data removed]",
      "text/plain": [
       "<Figure size 864x288 with 1 Axes>"
      ]
     },
     "metadata": {
      "needs_background": "light"
     },
     "output_type": "display_data"
    }
   ],
   "source": [
    "## Plot R2 Trends:\n",
    "pool_rmsd = [0.58, 0.45, 0.76, 0.17, 0.54, 0.83, 0.38, 0.94, 0.77, 1.0]\n",
    "ens_rmsd =  [0.61, 0.36, 0.79, 0.39, 0.73, 0.92, 0.52, 0.96, 0.8, 1.0]\n",
    "fig, ax = plt.subplots()\n",
    "fig.set_size_inches(12,4)\n",
    "    \n",
    "xticklabels = [\"C1'\", \"C2'\", \"C3'\", \"C4'\", \"C5'\", \"C8\", \"C6\", \"C5\", \"C2\", \"N1/N3\"]\n",
    "xticks = list(range(1, len(xticklabels)+1))\n",
    "xticks1 = np.array(xticks) - 0.2\n",
    "xticks2 = np.array(xticks) + 0.2\n",
    "\n",
    "ax.bar(x = xticks1, height=pool_rmsd, color=\"blue\", width=0.3)\n",
    "ax.bar(x = xticks2, height=ens_rmsd, color=\"red\", width=0.3)\n",
    "\n",
    "#ax.tick_params(width=2,length=6)\n",
    "#ax.tick_params(axis='both', which='major', labelsize=20)\n",
    "ax.set_ylim([0, 1])\n",
    "ax.set_xlim([0.5, 10.5])\n",
    "ax.set_xticks(xticks)\n",
    "ax.set_xticklabels(xticklabels, fontsize = 20)\n",
    "ax.set_ylabel(r\"$R^2$ (ppm)\", fontsize=20)\n",
    "#ax.axhline(y=error_EII3, ls = '--', color='k')\n",
    "ax.tick_params(width=2,length=6)\n",
    "plt.savefig(\"plots/R2_Pool_Ens_Trends.pdf\")"
   ]
  },
  {
   "cell_type": "code",
   "execution_count": 5,
   "id": "597e7deb",
   "metadata": {},
   "outputs": [
    {
     "data": {
      "image/png": "[encoded data removed]",
      "text/plain": [
       "<Figure size 360x288 with 1 Axes>"
      ]
     },
     "metadata": {
      "needs_background": "light"
     },
     "output_type": "display_data"
    }
   ],
   "source": [
    "## Plot RMSD Trends:\n",
    "pB = [13, 17, 0]\n",
    "pB_error =  [2, 4,  0]\n",
    "fig, ax = plt.subplots()\n",
    "fig.set_size_inches(5,4)\n",
    "    \n",
    "xticklabels = [\"1\", \"2\", \"3\"]\n",
    "xticks = list(range(1, len(xticklabels)+1))\n",
    "\n",
    "\n",
    "ax.bar(x = xticks, height=pB, yerr=pB_error, color=\"blue\", capsize=6, width=0.5)\n",
    "\n",
    "\n",
    "#ax.tick_params(width=2,length=6)\n",
    "#ax.tick_params(axis='both', which='major', labelsize=20)\n",
    "ax.set_ylim([0, 25])\n",
    "ax.set_xlim([0.5, 3.5])\n",
    "ax.set_xticks(xticks)\n",
    "ax.set_xticklabels(xticklabels, fontsize = 20)\n",
    "#ax.set_ylabel(r\"RMSD (ppm)\", fontsize=20)\n",
    "#ax.axhline(y=error_EII3, ls = '--', color='k')\n",
    "ax.tick_params(width=2,length=6)\n",
    "plt.savefig(\"plots/pB_trend.pdf\")"
   ]
  },
  {
   "cell_type": "code",
   "execution_count": 1,
   "id": "fecb45c6",
   "metadata": {},
   "outputs": [],
   "source": [
    "pool_rmsd = [0.92, 0.2, 0.85, 1.01, 0.78, 0.81, 0.65, 0.81, 0.37, 0.34]\n",
    "pool_rmsd_h=[0.15, 0.13, 0.11, 0.13, 0.18, 0.19, 0.11, 0.31, 0.17, 0.24]\n",
    "pool_r = []\n",
    "pool_r_h = []\n",
    "\n",
    "ens_rmsd =  [0.89, 0.22, 0.79, 0.86, 0.59, 0.55, 0.58, 0.68, 0.34, 0.23]\n",
    "ens_rmsd_h=[0.14, 0.12, 0.11, 0.12, 0.13, 0.18, 0.11, 0.23, 0.16, 0.17]\n",
    "ens_r = []\n",
    "ens_r_h = []\n",
    "\n",
    "low_rmsd =  [1.04, 0.22, 1.59, 1.09, 0.95, 1.16, 0.82, 0.43, 0.80, 0.36]\n",
    "low_rmsd_h=[0.17, 0.17, 0.15, 0.13, 0.18, 0.19, 0.12, 0.32, 0.19, 0.17]\n",
    "low_r = []\n",
    "low_r_h = []"
   ]
  },
  {
   "cell_type": "code",
   "execution_count": null,
   "id": "cdecef29",
   "metadata": {},
   "outputs": [],
   "source": []
  }
 ],
 "metadata": {
  "kernelspec": {
   "display_name": "Python 3 (ipykernel)",
   "language": "python",
   "name": "python3"
  },
  "language_info": {
   "codemirror_mode": {
    "name": "ipython",
    "version": 3
   },
   "file_extension": ".py",
   "mimetype": "text/x-python",
   "name": "python",
   "nbconvert_exporter": "python",
   "pygments_lexer": "ipython3",
   "version": "3.8.3"
  }
 },
 "nbformat": 4,
 "nbformat_minor": 5
}
